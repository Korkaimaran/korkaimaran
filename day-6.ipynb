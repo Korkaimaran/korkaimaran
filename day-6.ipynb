{
 "cells": [
  {
   "cell_type": "code",
   "execution_count": 23,
   "id": "49e8fafd",
   "metadata": {},
   "outputs": [
    {
     "name": "stdout",
     "output_type": "stream",
     "text": [
      "['all', 'the', 'best', 'exam']\n"
     ]
    }
   ],
   "source": [
    "# tuple\n",
    "a=('all','the','best')\n",
    "b=list(a)\n",
    "b.append('exam')\n",
    "print(b)"
   ]
  },
  {
   "cell_type": "code",
   "execution_count": 37,
   "id": "b0127629",
   "metadata": {},
   "outputs": [
    {
     "data": {
      "text/plain": [
       "('all',)"
      ]
     },
     "execution_count": 37,
     "metadata": {},
     "output_type": "execute_result"
    }
   ],
   "source": [
    "a=('all','the','best')\n",
    "a[:1]"
   ]
  },
  {
   "cell_type": "code",
   "execution_count": 36,
   "id": "193a69f8",
   "metadata": {},
   "outputs": [
    {
     "name": "stdout",
     "output_type": "stream",
     "text": [
      "['all', 'the', 'best']\n"
     ]
    }
   ],
   "source": [
    "a=('all','to','best')\n",
    "b=list(a)\n",
    "b[1]='the'\n",
    "print(b)\n"
   ]
  },
  {
   "cell_type": "code",
   "execution_count": 41,
   "id": "aa71139d",
   "metadata": {},
   "outputs": [
    {
     "name": "stdout",
     "output_type": "stream",
     "text": [
      "mango\n",
      "orange apple\n",
      "banna\n"
     ]
    }
   ],
   "source": [
    "a=('mango','orange','apple','banna')\n",
    "(green,*tropic,blue)=a\n",
    "print(green)\n",
    "print(*tropic)\n",
    "print(blue)"
   ]
  },
  {
   "cell_type": "code",
   "execution_count": 48,
   "id": "5ebe5095",
   "metadata": {},
   "outputs": [
    {
     "name": "stdout",
     "output_type": "stream",
     "text": [
      "1\n"
     ]
    }
   ],
   "source": [
    "a=('mango','orange','apple','banna')\n",
    "b=list(a)\n",
    "c=b.count('mango')\n",
    "print(c)"
   ]
  },
  {
   "cell_type": "code",
   "execution_count": 49,
   "id": "c653e8d2",
   "metadata": {},
   "outputs": [
    {
     "name": "stdout",
     "output_type": "stream",
     "text": [
      "2\n"
     ]
    }
   ],
   "source": [
    "a=('mango','orange','apple','banna')\n",
    "b=list(a)\n",
    "c=b.index('apple')\n",
    "print(c)"
   ]
  },
  {
   "cell_type": "code",
   "execution_count": 50,
   "id": "a84ec729",
   "metadata": {},
   "outputs": [
    {
     "name": "stdout",
     "output_type": "stream",
     "text": [
      "{1, 2, 4, 6, 8, 10}\n"
     ]
    }
   ],
   "source": [
    "#set\n",
    "\n",
    "a={1,4,6,8,8,10,2,4,10}\n",
    "print(a)"
   ]
  },
  {
   "cell_type": "code",
   "execution_count": 62,
   "id": "858f4033",
   "metadata": {},
   "outputs": [
    {
     "name": "stdout",
     "output_type": "stream",
     "text": [
      "{0, 'apple', 'mango', 'banna', 'orange'}\n"
     ]
    }
   ],
   "source": [
    "a={'mango','orange','apple','banna'}\n",
    "b=a.add(0)\n",
    "print(a)"
   ]
  },
  {
   "cell_type": "code",
   "execution_count": 57,
   "id": "40971468",
   "metadata": {},
   "outputs": [
    {
     "name": "stdout",
     "output_type": "stream",
     "text": [
      "{1, 'apple', 2, 4, 6, 'mango', 8, 'banna', 10, 'orange'}\n"
     ]
    }
   ],
   "source": [
    "a={'mango','orange','apple','banna'}\n",
    "b={1,4,6,8,8,10,2,4,10}\n",
    "c=a.update(b)\n",
    "print(a)"
   ]
  },
  {
   "cell_type": "code",
   "execution_count": 61,
   "id": "d345954f",
   "metadata": {},
   "outputs": [
    {
     "name": "stdout",
     "output_type": "stream",
     "text": [
      "{'mango', 'banna', 'orange'}\n"
     ]
    }
   ],
   "source": [
    "a={'mango','orange','apple','banna'}\n",
    "x=a.remove('apple')\n",
    "print(a)"
   ]
  },
  {
   "cell_type": "code",
   "execution_count": null,
   "id": "27d80c27",
   "metadata": {},
   "outputs": [],
   "source": []
  }
 ],
 "metadata": {
  "kernelspec": {
   "display_name": "Python 3 (ipykernel)",
   "language": "python",
   "name": "python3"
  },
  "language_info": {
   "codemirror_mode": {
    "name": "ipython",
    "version": 3
   },
   "file_extension": ".py",
   "mimetype": "text/x-python",
   "name": "python",
   "nbconvert_exporter": "python",
   "pygments_lexer": "ipython3",
   "version": "3.9.12"
  }
 },
 "nbformat": 4,
 "nbformat_minor": 5
}
