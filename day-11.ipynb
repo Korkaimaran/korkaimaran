{
 "cells": [
  {
   "cell_type": "code",
   "execution_count": 8,
   "id": "c540bf4e",
   "metadata": {},
   "outputs": [
    {
     "name": "stdout",
     "output_type": "stream",
     "text": [
      "is prime\n"
     ]
    }
   ],
   "source": [
    "#prime and not prime\n",
    "a=2\n",
    "b=0\n",
    "for i in range(1,a):\n",
    "    if (a%i)==0:\n",
    "        b=b+1\n",
    "if b==1:\n",
    "    print('is prime')\n",
    "else:\n",
    "    print('is not prime')"
   ]
  },
  {
   "cell_type": "code",
   "execution_count": 7,
   "id": "3b68dae3",
   "metadata": {},
   "outputs": [
    {
     "name": "stdout",
     "output_type": "stream",
     "text": [
      "l is even\n"
     ]
    }
   ],
   "source": [
    "#odd and even\n",
    "\n",
    "l=8\n",
    "\n",
    "if l % 2 ==0:\n",
    "    print('l is even')\n",
    "else:\n",
    "    print('l is odd')"
   ]
  },
  {
   "cell_type": "code",
   "execution_count": 6,
   "id": "c1157295",
   "metadata": {},
   "outputs": [
    {
     "name": "stdout",
     "output_type": "stream",
     "text": [
      "89\n",
      "[23, 45, 67, 89]\n"
     ]
    }
   ],
   "source": [
    "#Find Maximum and Minimum Number\n",
    "def max():\n",
    "    l=[23,45,67,89]\n",
    "    k=l[0]\n",
    "    for i in l:\n",
    "        if i>k:\n",
    "            l=i\n",
    "    print(l)\n",
    "    \n",
    "max()\n",
    "    \n",
    "def min():\n",
    "    n=[23,45,67,89]\n",
    "    a=n[0]\n",
    "    for i in n:\n",
    "        if i<a:\n",
    "            n=i\n",
    "    print(n)\n",
    "    \n",
    "min()"
   ]
  },
  {
   "cell_type": "code",
   "execution_count": 9,
   "id": "0c0c7d6f",
   "metadata": {},
   "outputs": [
    {
     "name": "stdout",
     "output_type": "stream",
     "text": [
      "{1: 1, 2: 1, 4: 1, 5: 2, 6: 1, 7: 1, 8: 1}\n"
     ]
    }
   ],
   "source": [
    "#Count the Frequency of Elements in a List\n",
    "l=[1,2,4,5,5,6,7,8]\n",
    "a={}\n",
    "for i in l:\n",
    "    if i not in a:\n",
    "        a[i]=1\n",
    "    else:\n",
    "        a[i]+=1\n",
    "print(a)"
   ]
  },
  {
   "cell_type": "code",
   "execution_count": 10,
   "id": "29c76356",
   "metadata": {},
   "outputs": [
    {
     "name": "stdout",
     "output_type": "stream",
     "text": [
      "naram\n"
     ]
    }
   ],
   "source": [
    "#Reverse a String\n",
    "l='maran'\n",
    "k=l[::-1]\n",
    "print(k)"
   ]
  },
  {
   "cell_type": "code",
   "execution_count": 11,
   "id": "8ba9a534",
   "metadata": {},
   "outputs": [
    {
     "name": "stdout",
     "output_type": "stream",
     "text": [
      "{67, 23}\n"
     ]
    }
   ],
   "source": [
    "#Find Common Elements Between Two Lists\n",
    "num1={23,34,45,67,89}\n",
    "num2={15,23,67,29,30}\n",
    "num3=num1.intersection(num2)\n",
    "print(num3)"
   ]
  },
  {
   "cell_type": "code",
   "execution_count": 12,
   "id": "05df2e3d",
   "metadata": {},
   "outputs": [
    {
     "name": "stdout",
     "output_type": "stream",
     "text": [
      "{'apple', 'cherry', 'banna', 'grapes'}\n"
     ]
    }
   ],
   "source": [
    "#Remove Duplicates from a List in python with syntax\n",
    "a=['apple','apple','banna','cherry','grapes']\n",
    "b=set(a)\n",
    "print(b)"
   ]
  },
  {
   "cell_type": "code",
   "execution_count": 1,
   "id": "8757a6c7",
   "metadata": {},
   "outputs": [
    {
     "name": "stdout",
     "output_type": "stream",
     "text": [
      "[15, 23, 29, 30, 34, 45, 67, 89]\n"
     ]
    }
   ],
   "source": [
    "#Merge and Sort Two Lists\n",
    "\n",
    "i=[23,34,45,67,89]\n",
    "k=[15,29,30]\n",
    "l=i.extend(k)\n",
    "a=i.sort()\n",
    "print(i)\n"
   ]
  },
  {
   "cell_type": "code",
   "execution_count": 2,
   "id": "8dac59af",
   "metadata": {},
   "outputs": [
    {
     "name": "stdout",
     "output_type": "stream",
     "text": [
      "is a not anargment\n"
     ]
    }
   ],
   "source": [
    "#Check for Anagram\n",
    "\n",
    "a='who'\n",
    "b='how'\n",
    "if (a==b):\n",
    "    print('is a anargment')\n",
    "else:\n",
    "    print('is a not anargment')"
   ]
  },
  {
   "cell_type": "code",
   "execution_count": 16,
   "id": "424fbee9",
   "metadata": {},
   "outputs": [
    {
     "name": "stdout",
     "output_type": "stream",
     "text": [
      "is not palindrom\n"
     ]
    }
   ],
   "source": [
    "#Check for Palindrome\n",
    "k='siva'\n",
    "k1=k[::-1]\n",
    "if k==k1:\n",
    "    print('is palindrom')\n",
    "else:\n",
    "    print('is not palindrom')"
   ]
  },
  {
   "cell_type": "code",
   "execution_count": 17,
   "id": "5c9baedc",
   "metadata": {},
   "outputs": [
    {
     "name": "stdout",
     "output_type": "stream",
     "text": [
      "is palindrom\n"
     ]
    }
   ],
   "source": [
    "#Check if List is Palindrome\n",
    "z=['eye']\n",
    "z1=z[::-1]\n",
    "if z==z1:\n",
    "    print('is palindrom')\n",
    "else:\n",
    "    print('is not palindrom')"
   ]
  },
  {
   "cell_type": "code",
   "execution_count": 18,
   "id": "4f71d1d8",
   "metadata": {},
   "outputs": [
    {
     "name": "stdout",
     "output_type": "stream",
     "text": [
      "0b11010\n"
     ]
    }
   ],
   "source": [
    "#decimal to binary\n",
    "a=26\n",
    "b=bin(a)\n",
    "print(b)"
   ]
  },
  {
   "cell_type": "code",
   "execution_count": null,
   "id": "bcd086a3",
   "metadata": {},
   "outputs": [],
   "source": []
  }
 ],
 "metadata": {
  "kernelspec": {
   "display_name": "Python 3 (ipykernel)",
   "language": "python",
   "name": "python3"
  },
  "language_info": {
   "codemirror_mode": {
    "name": "ipython",
    "version": 3
   },
   "file_extension": ".py",
   "mimetype": "text/x-python",
   "name": "python",
   "nbconvert_exporter": "python",
   "pygments_lexer": "ipython3",
   "version": "3.9.12"
  }
 },
 "nbformat": 4,
 "nbformat_minor": 5
}
