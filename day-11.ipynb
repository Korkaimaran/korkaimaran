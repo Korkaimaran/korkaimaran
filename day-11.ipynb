{
 "cells": [
  {
   "cell_type": "code",
   "execution_count": 29,
   "id": "3b68dae3",
   "metadata": {},
   "outputs": [
    {
     "name": "stdout",
     "output_type": "stream",
     "text": [
      "l is odd\n"
     ]
    }
   ],
   "source": [
    "#odd and even\n",
    "\n",
    "l=5\n",
    "\n",
    "if l%2==0:\n",
    "    print('l is even')\n",
    "else:\n",
    "    print('l is odd')"
   ]
  },
  {
   "cell_type": "code",
   "execution_count": 67,
   "id": "dfa57fc7",
   "metadata": {},
   "outputs": [
    {
     "name": "stdout",
     "output_type": "stream",
     "text": [
      "25\n"
     ]
    }
   ],
   "source": [
    "#minimum\n",
    "def min():\n",
    "    n=[70,67,34,25]\n",
    "    a=n[0]\n",
    "    for i in n:\n",
    "        if i<a:\n",
    "            n=i\n",
    "    print(n)\n",
    "    \n",
    "min()"
   ]
  },
  {
   "cell_type": "code",
   "execution_count": 63,
   "id": "7bfb961a",
   "metadata": {},
   "outputs": [
    {
     "name": "stdout",
     "output_type": "stream",
     "text": [
      "89\n"
     ]
    }
   ],
   "source": [
    "#maximum\n",
    "def max():\n",
    "    l=[23,45,67,89]\n",
    "    k=l[0]\n",
    "    for i in l:\n",
    "        if i>k:\n",
    "            l=i\n",
    "    print(l)\n",
    "max()"
   ]
  },
  {
   "cell_type": "code",
   "execution_count": null,
   "id": "05df2e3d",
   "metadata": {},
   "outputs": [],
   "source": [
    "#Remove Duplicates from a List in python with syntax\n",
    "a=['apple','apple','banna','cherry','grapes']\n",
    "b=set(a)\n",
    "print(b)"
   ]
  },
  {
   "cell_type": "code",
   "execution_count": 28,
   "id": "8757a6c7",
   "metadata": {},
   "outputs": [
    {
     "name": "stdout",
     "output_type": "stream",
     "text": [
      "[15, 23, 29, 30, 34, 45, 67, 89]\n"
     ]
    }
   ],
   "source": [
    "#Merge and Sort Two Lists\n",
    "\n",
    "i=[23,34,45,67,89]\n",
    "k=[15,29,30]\n",
    "l=i.extend(k)\n",
    "a=i.sort()\n",
    "print(i)\n"
   ]
  },
  {
   "cell_type": "code",
   "execution_count": 27,
   "id": "8dac59af",
   "metadata": {},
   "outputs": [
    {
     "name": "stdout",
     "output_type": "stream",
     "text": [
      " ana\n",
      " ana\n",
      " ana\n",
      "3\n"
     ]
    }
   ],
   "source": [
    "#Check for Anagram\n",
    "\n",
    "a=\"who\"\n",
    "b=\"how\"\n",
    "c=0\n",
    "for i in a:\n",
    "        if i in (b):\n",
    "            c=c+1\n",
    "            print(\" ana\")\n",
    "        else:\n",
    "            print(\"not ana\")\n",
    "print(c)"
   ]
  },
  {
   "cell_type": "code",
   "execution_count": 68,
   "id": "424fbee9",
   "metadata": {},
   "outputs": [
    {
     "name": "stdout",
     "output_type": "stream",
     "text": [
      "is not palindrom\n"
     ]
    }
   ],
   "source": [
    "#Check for Palindrome\n",
    "k='siva'\n",
    "k1=k[::-1]\n",
    "if k==k1:\n",
    "    print('is palindrom')\n",
    "else:\n",
    "    print('is not palindrom')"
   ]
  },
  {
   "cell_type": "code",
   "execution_count": 69,
   "id": "5c9baedc",
   "metadata": {},
   "outputs": [
    {
     "name": "stdout",
     "output_type": "stream",
     "text": [
      "is palindrom\n"
     ]
    }
   ],
   "source": [
    "#Check if List is Palindrome\n",
    "z=['eye']\n",
    "z1=z[::-1]\n",
    "if z==z1:\n",
    "    print('is palindrom')\n",
    "else:\n",
    "    print('is not palindrom')"
   ]
  },
  {
   "cell_type": "code",
   "execution_count": 80,
   "id": "f7193294",
   "metadata": {},
   "outputs": [
    {
     "name": "stdout",
     "output_type": "stream",
     "text": [
      "[25, 34, 67, 70]\n"
     ]
    }
   ],
   "source": [
    "#Sort in Ascending and Descending Order\n",
    "n=[70,67,34,25]\n",
    "a=n.sort()\n",
    "print(n)\n"
   ]
  },
  {
   "cell_type": "code",
   "execution_count": 79,
   "id": "3e6abb87",
   "metadata": {},
   "outputs": [
    {
     "name": "stdout",
     "output_type": "stream",
     "text": [
      "[25, 34, 67, 70]\n"
     ]
    }
   ],
   "source": [
    "m=[25, 34, 67, 70]\n",
    "b=m.sort()\n",
    "print(m)"
   ]
  },
  {
   "cell_type": "code",
   "execution_count": 85,
   "id": "c36f70ce",
   "metadata": {},
   "outputs": [
    {
     "name": "stdout",
     "output_type": "stream",
     "text": [
      "4\n"
     ]
    }
   ],
   "source": [
    "#Find the Length of a List Without Using len()\n",
    "l=[25, 34, 67, 70]\n",
    "n=0\n",
    "for i in l:\n",
    "    n+=1\n",
    "print(n)"
   ]
  },
  {
   "cell_type": "code",
   "execution_count": 4,
   "id": "59b4a5c6",
   "metadata": {},
   "outputs": [
    {
     "name": "stdout",
     "output_type": "stream",
     "text": [
      "enter the year2024\n",
      "2024 is a leap year\n"
     ]
    }
   ],
   "source": [
    "#Check Leap Year\n",
    "year=int(input('enter the year'))\n",
    "if year%4==0:\n",
    "    print(year,\"is a leap year\")\n",
    "else:\n",
    "    print(year,\"is not a leap year\")"
   ]
  }
 ],
 "metadata": {
  "kernelspec": {
   "display_name": "Python 3 (ipykernel)",
   "language": "python",
   "name": "python3"
  },
  "language_info": {
   "codemirror_mode": {
    "name": "ipython",
    "version": 3
   },
   "file_extension": ".py",
   "mimetype": "text/x-python",
   "name": "python",
   "nbconvert_exporter": "python",
   "pygments_lexer": "ipython3",
   "version": "3.9.12"
  }
 },
 "nbformat": 4,
 "nbformat_minor": 5
}
