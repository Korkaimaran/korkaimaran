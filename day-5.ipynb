{
 "cells": [
  {
   "cell_type": "code",
   "execution_count": 1,
   "id": "010f364c",
   "metadata": {},
   "outputs": [
    {
     "name": "stdout",
     "output_type": "stream",
     "text": [
      "False\n"
     ]
    }
   ],
   "source": [
    "#logical operator\n",
    "\n",
    "a=37\n",
    "b=35\n",
    "c=24\n",
    "print((b<a) and (b<c))"
   ]
  },
  {
   "cell_type": "code",
   "execution_count": 2,
   "id": "dd14cea3",
   "metadata": {},
   "outputs": [
    {
     "name": "stdout",
     "output_type": "stream",
     "text": [
      "True\n"
     ]
    }
   ],
   "source": [
    "a=37\n",
    "b=45\n",
    "c=50\n",
    "print((b>a or b>c))"
   ]
  },
  {
   "cell_type": "code",
   "execution_count": null,
   "id": "cd058af4",
   "metadata": {},
   "outputs": [],
   "source": [
    "a=10\n",
    "print(not(a>24 or b<45))"
   ]
  },
  {
   "cell_type": "code",
   "execution_count": 4,
   "id": "4332d177",
   "metadata": {},
   "outputs": [
    {
     "name": "stdout",
     "output_type": "stream",
     "text": [
      "False\n",
      "True\n"
     ]
    }
   ],
   "source": [
    "#indentify operator\n",
    "\n",
    "a=['hello']\n",
    "b=['world']\n",
    "a=b\n",
    "print (b is not a)\n",
    "print(a is b)"
   ]
  },
  {
   "cell_type": "code",
   "execution_count": 3,
   "id": "6024d2df",
   "metadata": {},
   "outputs": [
    {
     "name": "stdout",
     "output_type": "stream",
     "text": [
      "False\n",
      "True\n"
     ]
    }
   ],
   "source": [
    "#memoryship operator\n",
    "\n",
    "a=('hello')\n",
    "print('f' in a)\n",
    "print('a' not in a)"
   ]
  },
  {
   "cell_type": "code",
   "execution_count": 5,
   "id": "6f88abf7",
   "metadata": {},
   "outputs": [
    {
     "name": "stdout",
     "output_type": "stream",
     "text": [
      "0b11000\n"
     ]
    }
   ],
   "source": [
    "#bitwise operator\n",
    "\n",
    "a=24\n",
    "print(bin(a))"
   ]
  },
  {
   "cell_type": "code",
   "execution_count": 22,
   "id": "99c9b232",
   "metadata": {},
   "outputs": [
    {
     "name": "stdout",
     "output_type": "stream",
     "text": [
      "['hi', 'best', 'world1']\n"
     ]
    }
   ],
   "source": [
    "#lists\n",
    "\n",
    "a=['hi','hello','world1']\n",
    "a[1]='best'\n",
    "print(a)\n"
   ]
  },
  {
   "cell_type": "code",
   "execution_count": 14,
   "id": "92185251",
   "metadata": {},
   "outputs": [
    {
     "name": "stdout",
     "output_type": "stream",
     "text": [
      "['best', 'world1']\n"
     ]
    }
   ],
   "source": [
    "a=['hi','hello','world1']\n",
    "a[:2]=['best']\n",
    "print(a)"
   ]
  },
  {
   "cell_type": "code",
   "execution_count": 31,
   "id": "2b7fbbcd",
   "metadata": {},
   "outputs": [
    {
     "name": "stdout",
     "output_type": "stream",
     "text": [
      "['hi', 'hello']\n"
     ]
    }
   ],
   "source": [
    "a=['hi','hello','world1']\n",
    "a.pop()\n",
    "print(a)"
   ]
  },
  {
   "cell_type": "code",
   "execution_count": 5,
   "id": "de624f0e",
   "metadata": {},
   "outputs": [
    {
     "name": "stdout",
     "output_type": "stream",
     "text": [
      "['hi', 'world1']\n"
     ]
    }
   ],
   "source": [
    "a=['hi','hello','world1']\n",
    "a.pop(1)\n",
    "print(a)"
   ]
  },
  {
   "cell_type": "code",
   "execution_count": 40,
   "id": "f89156b2",
   "metadata": {},
   "outputs": [
    {
     "name": "stdout",
     "output_type": "stream",
     "text": [
      "['hi', 'world1']\n"
     ]
    }
   ],
   "source": [
    "a=['hi','hello','world1']\n",
    "a.remove('hello')\n",
    "print(a)"
   ]
  },
  {
   "cell_type": "code",
   "execution_count": 7,
   "id": "a3cfaa7e",
   "metadata": {},
   "outputs": [
    {
     "name": "stdout",
     "output_type": "stream",
     "text": [
      "[8, 12]\n"
     ]
    }
   ],
   "source": [
    "a=[24,34,67,89,12]\n",
    "a[:4]=[8]\n",
    "print(a)"
   ]
  },
  {
   "cell_type": "code",
   "execution_count": 10,
   "id": "9a5d4420",
   "metadata": {},
   "outputs": [
    {
     "name": "stdout",
     "output_type": "stream",
     "text": [
      "[1, 5, 6, 6, 89, 88, 34]\n"
     ]
    }
   ],
   "source": [
    "a= [1,5,6,6,89,88]\n",
    "a.append(34)\n",
    "print(a)\n"
   ]
  },
  {
   "cell_type": "code",
   "execution_count": 11,
   "id": "b3370c6d",
   "metadata": {},
   "outputs": [
    {
     "name": "stdout",
     "output_type": "stream",
     "text": [
      "[1, 5, 34, 6, 6, 89, 88]\n"
     ]
    }
   ],
   "source": [
    "a= [1,5,6,6,89,88]\n",
    "a.insert(2,34)\n",
    "print(a)"
   ]
  },
  {
   "cell_type": "code",
   "execution_count": 12,
   "id": "962f34f5",
   "metadata": {},
   "outputs": [
    {
     "name": "stdout",
     "output_type": "stream",
     "text": [
      "[1, 5, 6, 6, 89, 88, 8, 20, 67, 5, 8, 4]\n"
     ]
    }
   ],
   "source": [
    "a=[1,5,6,6,89,88]\n",
    "b=[8,20,67,5,8,4]\n",
    "a.extend(b)\n",
    "print(a)"
   ]
  },
  {
   "cell_type": "code",
   "execution_count": null,
   "id": "95cc8344",
   "metadata": {},
   "outputs": [],
   "source": []
  }
 ],
 "metadata": {
  "kernelspec": {
   "display_name": "Python 3 (ipykernel)",
   "language": "python",
   "name": "python3"
  },
  "language_info": {
   "codemirror_mode": {
    "name": "ipython",
    "version": 3
   },
   "file_extension": ".py",
   "mimetype": "text/x-python",
   "name": "python",
   "nbconvert_exporter": "python",
   "pygments_lexer": "ipython3",
   "version": "3.9.12"
  }
 },
 "nbformat": 4,
 "nbformat_minor": 5
}
