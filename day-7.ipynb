{
 "cells": [
  {
   "cell_type": "code",
   "execution_count": 5,
   "id": "7cbe67ba",
   "metadata": {},
   "outputs": [
    {
     "ename": "NameError",
     "evalue": "name 'values' is not defined",
     "output_type": "error",
     "traceback": [
      "\u001b[1;31m---------------------------------------------------------------------------\u001b[0m",
      "\u001b[1;31mNameError\u001b[0m                                 Traceback (most recent call last)",
      "Input \u001b[1;32mIn [5]\u001b[0m, in \u001b[0;36m<cell line: 4>\u001b[1;34m()\u001b[0m\n\u001b[0;32m      1\u001b[0m \u001b[38;5;66;03m#Dictionaries\u001b[39;00m\n\u001b[0;32m      3\u001b[0m k\u001b[38;5;241m=\u001b[39m{\u001b[38;5;124m'\u001b[39m\u001b[38;5;124mmango\u001b[39m\u001b[38;5;124m'\u001b[39m:\u001b[38;5;241m56\u001b[39m,\u001b[38;5;124m'\u001b[39m\u001b[38;5;124mapple\u001b[39m\u001b[38;5;124m'\u001b[39m:\u001b[38;5;241m67\u001b[39m,\u001b[38;5;124m'\u001b[39m\u001b[38;5;124mbanna\u001b[39m\u001b[38;5;124m'\u001b[39m:\u001b[38;5;241m78\u001b[39m}\n\u001b[1;32m----> 4\u001b[0m \u001b[38;5;28mprint\u001b[39m(\u001b[43mvalues\u001b[49m)\n\u001b[0;32m      6\u001b[0m a\u001b[38;5;241m=\u001b[39m{\u001b[38;5;124m'\u001b[39m\u001b[38;5;124mmango\u001b[39m\u001b[38;5;124m'\u001b[39m:\u001b[38;5;241m56\u001b[39m,\u001b[38;5;124m'\u001b[39m\u001b[38;5;124mapple\u001b[39m\u001b[38;5;124m'\u001b[39m:\u001b[38;5;241m67\u001b[39m,\u001b[38;5;124m'\u001b[39m\u001b[38;5;124mbanna\u001b[39m\u001b[38;5;124m'\u001b[39m:\u001b[38;5;241m78\u001b[39m}\n\u001b[0;32m      7\u001b[0m \u001b[38;5;28mprint\u001b[39m(keys)\n",
      "\u001b[1;31mNameError\u001b[0m: name 'values' is not defined"
     ]
    }
   ],
   "source": [
    "#Dictionaries\n",
    "\n",
    "k={'mango':56,'apple':67,'banna':78}\n",
    "print(values)\n",
    "\n",
    "a={'mango':56,'apple':67,'banna':78}\n",
    "print(keys)"
   ]
  },
  {
   "cell_type": "code",
   "execution_count": 16,
   "id": "aff640ad",
   "metadata": {},
   "outputs": [
    {
     "name": "stdout",
     "output_type": "stream",
     "text": [
      "{'mango': 56, 'apple': 67, 'banna': 78, 'orange': 23}\n"
     ]
    }
   ],
   "source": [
    "k={'mango':56,'apple':67,'banna':78}\n",
    "x=k.update({'orange':23})\n",
    "print(k)"
   ]
  },
  {
   "cell_type": "code",
   "execution_count": 129,
   "id": "a600b2e5",
   "metadata": {},
   "outputs": [
    {
     "data": {
      "text/plain": [
       "{'mango': 56, 'apple': 67}"
      ]
     },
     "execution_count": 129,
     "metadata": {},
     "output_type": "execute_result"
    }
   ],
   "source": [
    "a={'mango':56,'apple':67,'banna':78}\n",
    "a.popitem()\n",
    "a"
   ]
  },
  {
   "cell_type": "code",
   "execution_count": 149,
   "id": "4e193f9d",
   "metadata": {},
   "outputs": [
    {
     "name": "stdout",
     "output_type": "stream",
     "text": [
      "{1, 34, 45}\n"
     ]
    }
   ],
   "source": [
    "k={1,34,56,45}\n",
    "k.pop()\n",
    "print(k)"
   ]
  },
  {
   "cell_type": "code",
   "execution_count": 118,
   "id": "e99858e4",
   "metadata": {},
   "outputs": [
    {
     "name": "stdout",
     "output_type": "stream",
     "text": [
      "{}\n"
     ]
    }
   ],
   "source": [
    "a={'mango':56,'apple':67,'banna':78}\n",
    "a.clear()\n",
    "print(a)"
   ]
  },
  {
   "cell_type": "code",
   "execution_count": 74,
   "id": "2d1b27b3",
   "metadata": {},
   "outputs": [
    {
     "name": "stdout",
     "output_type": "stream",
     "text": [
      "{'apple': 67, 'banna': 78}\n"
     ]
    }
   ],
   "source": [
    "a={'mango':56,'apple':67,'banna':78}\n",
    "del a['mango']\n",
    "print(a)"
   ]
  },
  {
   "cell_type": "code",
   "execution_count": 87,
   "id": "5c936def",
   "metadata": {},
   "outputs": [
    {
     "name": "stdout",
     "output_type": "stream",
     "text": [
      "{'mango': 56, 'banna': 78}\n"
     ]
    }
   ],
   "source": [
    "a={'mango':56,'apple':67,'banna':78}\n",
    "a.pop('apple')\n",
    "print(a)"
   ]
  },
  {
   "cell_type": "code",
   "execution_count": 80,
   "id": "e4bb4186",
   "metadata": {},
   "outputs": [
    {
     "name": "stdout",
     "output_type": "stream",
     "text": [
      "{'mango': 56, 'apple': 67, 'banna': 23}\n"
     ]
    }
   ],
   "source": [
    "a={'mango':56,'apple':67,'banna':78}\n",
    "a['banna']=23\n",
    "print(a)"
   ]
  },
  {
   "cell_type": "code",
   "execution_count": 85,
   "id": "86e4b17c",
   "metadata": {},
   "outputs": [
    {
     "data": {
      "text/plain": [
       "{'cherry': 65, 'grape': 76, 'stawberry': 87}"
      ]
     },
     "execution_count": 85,
     "metadata": {},
     "output_type": "execute_result"
    }
   ],
   "source": [
    "a={'fruit1':{'mango':56,'apple':67,'banna':78},\n",
    "   'fruit2':{'cherry':65,'grape':76,'stawberry':87},\n",
    "   'fruit3':{'lemno':46,'watermelon':23,'coconut':12}}\n",
    "a['fruit2']\n"
   ]
  },
  {
   "cell_type": "code",
   "execution_count": 175,
   "id": "d7e61e20",
   "metadata": {},
   "outputs": [
    {
     "name": "stdout",
     "output_type": "stream",
     "text": [
      "{2, 78}\n"
     ]
    }
   ],
   "source": [
    "#set\n",
    "#difference\n",
    "k={1,34,56,45}\n",
    "l={2,34,78,45}\n",
    "a=l.difference(k)\n",
    "print(a)"
   ]
  },
  {
   "cell_type": "code",
   "execution_count": 172,
   "id": "933a0894",
   "metadata": {},
   "outputs": [
    {
     "name": "stdout",
     "output_type": "stream",
     "text": [
      "{34, 45}\n"
     ]
    }
   ],
   "source": [
    "#intersection\n",
    "k={1,34,56,45}\n",
    "l={2,34,78,45}\n",
    "a=k.intersection(l)\n",
    "print(a)"
   ]
  },
  {
   "cell_type": "code",
   "execution_count": 3,
   "id": "3cfd6144",
   "metadata": {},
   "outputs": [
    {
     "name": "stdout",
     "output_type": "stream",
     "text": [
      "{1, 2, 34, 45, 78, 56}\n"
     ]
    }
   ],
   "source": [
    "#union\n",
    "k={1,34,56,45}\n",
    "l={2,34,78,45}\n",
    "a=l|k\n",
    "print(a)"
   ]
  },
  {
   "cell_type": "code",
   "execution_count": null,
   "id": "70b806ad",
   "metadata": {},
   "outputs": [],
   "source": []
  }
 ],
 "metadata": {
  "kernelspec": {
   "display_name": "Python 3 (ipykernel)",
   "language": "python",
   "name": "python3"
  },
  "language_info": {
   "codemirror_mode": {
    "name": "ipython",
    "version": 3
   },
   "file_extension": ".py",
   "mimetype": "text/x-python",
   "name": "python",
   "nbconvert_exporter": "python",
   "pygments_lexer": "ipython3",
   "version": "3.9.12"
  }
 },
 "nbformat": 4,
 "nbformat_minor": 5
}
