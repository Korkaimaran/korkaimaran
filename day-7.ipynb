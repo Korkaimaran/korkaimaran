{
 "cells": [
  {
   "cell_type": "code",
   "execution_count": 7,
   "id": "7cbe67ba",
   "metadata": {},
   "outputs": [
    {
     "name": "stdout",
     "output_type": "stream",
     "text": [
      "dict_values([56, 67, 78])\n",
      "dict_keys(['mango', 'apple', 'banna'])\n"
     ]
    }
   ],
   "source": [
    "#Dictionaries\n",
    "\n",
    "k={'mango':56,'apple':67,'banna':78}\n",
    "print(k.values())\n",
    "\n",
    "a={'mango':56,'apple':67,'banna':78}\n",
    "print(a.keys())"
   ]
  },
  {
   "cell_type": "code",
   "execution_count": 16,
   "id": "aff640ad",
   "metadata": {},
   "outputs": [
    {
     "name": "stdout",
     "output_type": "stream",
     "text": [
      "{'mango': 56, 'apple': 67, 'banna': 78, 'orange': 23}\n"
     ]
    }
   ],
   "source": [
    "k={'mango':56,'apple':67,'banna':78}\n",
    "x=k.update({'orange':23})\n",
    "print(k)"
   ]
  },
  {
   "cell_type": "code",
   "execution_count": 129,
   "id": "a600b2e5",
   "metadata": {},
   "outputs": [
    {
     "data": {
      "text/plain": [
       "{'mango': 56, 'apple': 67}"
      ]
     },
     "execution_count": 129,
     "metadata": {},
     "output_type": "execute_result"
    }
   ],
   "source": [
    "a={'mango':56,'apple':67,'banna':78}\n",
    "a.popitem()\n",
    "a"
   ]
  },
  {
   "cell_type": "code",
   "execution_count": 149,
   "id": "4e193f9d",
   "metadata": {},
   "outputs": [
    {
     "name": "stdout",
     "output_type": "stream",
     "text": [
      "{1, 34, 45}\n"
     ]
    }
   ],
   "source": [
    "k={1,34,56,45}\n",
    "k.pop()\n",
    "print(k)"
   ]
  },
  {
   "cell_type": "code",
   "execution_count": 118,
   "id": "e99858e4",
   "metadata": {},
   "outputs": [
    {
     "name": "stdout",
     "output_type": "stream",
     "text": [
      "{}\n"
     ]
    }
   ],
   "source": [
    "a={'mango':56,'apple':67,'banna':78}\n",
    "a.clear()\n",
    "print(a)"
   ]
  },
  {
   "cell_type": "code",
   "execution_count": 74,
   "id": "2d1b27b3",
   "metadata": {},
   "outputs": [
    {
     "name": "stdout",
     "output_type": "stream",
     "text": [
      "{'apple': 67, 'banna': 78}\n"
     ]
    }
   ],
   "source": [
    "a={'mango':56,'apple':67,'banna':78}\n",
    "del a['mango']\n",
    "print(a)"
   ]
  },
  {
   "cell_type": "code",
   "execution_count": 87,
   "id": "5c936def",
   "metadata": {},
   "outputs": [
    {
     "name": "stdout",
     "output_type": "stream",
     "text": [
      "{'mango': 56, 'banna': 78}\n"
     ]
    }
   ],
   "source": [
    "a={'mango':56,'apple':67,'banna':78}\n",
    "a.pop('apple')\n",
    "print(a)"
   ]
  },
  {
   "cell_type": "code",
   "execution_count": 80,
   "id": "e4bb4186",
   "metadata": {},
   "outputs": [
    {
     "name": "stdout",
     "output_type": "stream",
     "text": [
      "{'mango': 56, 'apple': 67, 'banna': 23}\n"
     ]
    }
   ],
   "source": [
    "a={'mango':56,'apple':67,'banna':78}\n",
    "a['banna']=23\n",
    "print(a)"
   ]
  },
  {
   "cell_type": "code",
   "execution_count": 85,
   "id": "86e4b17c",
   "metadata": {},
   "outputs": [
    {
     "data": {
      "text/plain": [
       "{'cherry': 65, 'grape': 76, 'stawberry': 87}"
      ]
     },
     "execution_count": 85,
     "metadata": {},
     "output_type": "execute_result"
    }
   ],
   "source": [
    "a={'fruit1':{'mango':56,'apple':67,'banna':78},\n",
    "   'fruit2':{'cherry':65,'grape':76,'stawberry':87},\n",
    "   'fruit3':{'lemno':46,'watermelon':23,'coconut':12}}\n",
    "a['fruit2']\n"
   ]
  },
  {
   "cell_type": "code",
   "execution_count": 175,
   "id": "d7e61e20",
   "metadata": {},
   "outputs": [
    {
     "name": "stdout",
     "output_type": "stream",
     "text": [
      "{2, 78}\n"
     ]
    }
   ],
   "source": [
    "#set\n",
    "#difference\n",
    "k={1,34,56,45}\n",
    "l={2,34,78,45}\n",
    "a=l.difference(k)\n",
    "print(a)"
   ]
  },
  {
   "cell_type": "code",
   "execution_count": 172,
   "id": "933a0894",
   "metadata": {},
   "outputs": [
    {
     "name": "stdout",
     "output_type": "stream",
     "text": [
      "{34, 45}\n"
     ]
    }
   ],
   "source": [
    "#intersection\n",
    "k={1,34,56,45}\n",
    "l={2,34,78,45}\n",
    "a=k.intersection(l)\n",
    "print(a)"
   ]
  },
  {
   "cell_type": "code",
   "execution_count": 3,
   "id": "3cfd6144",
   "metadata": {},
   "outputs": [
    {
     "name": "stdout",
     "output_type": "stream",
     "text": [
      "{1, 2, 34, 45, 78, 56}\n"
     ]
    }
   ],
   "source": [
    "#union\n",
    "k={1,34,56,45}\n",
    "l={2,34,78,45}\n",
    "a=l|k\n",
    "print(a)"
   ]
  },
  {
   "cell_type": "code",
   "execution_count": null,
   "id": "70b806ad",
   "metadata": {},
   "outputs": [],
   "source": []
  }
 ],
 "metadata": {
  "kernelspec": {
   "display_name": "Python 3 (ipykernel)",
   "language": "python",
   "name": "python3"
  },
  "language_info": {
   "codemirror_mode": {
    "name": "ipython",
    "version": 3
   },
   "file_extension": ".py",
   "mimetype": "text/x-python",
   "name": "python",
   "nbconvert_exporter": "python",
   "pygments_lexer": "ipython3",
   "version": "3.9.12"
  }
 },
 "nbformat": 4,
 "nbformat_minor": 5
}
