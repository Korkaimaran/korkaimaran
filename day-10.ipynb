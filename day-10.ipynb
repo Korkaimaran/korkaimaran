{
 "cells": [
  {
   "cell_type": "code",
   "execution_count": 2,
   "id": "fc5a662e",
   "metadata": {},
   "outputs": [
    {
     "name": "stdout",
     "output_type": "stream",
     "text": [
      "ZeroDivisionError\n"
     ]
    }
   ],
   "source": [
    "try:\n",
    "    a=5\n",
    "    b=0\n",
    "    print(a/b)\n",
    "except ZeroDivisionError:\n",
    "    print('ZeroDivisionError')"
   ]
  },
  {
   "cell_type": "code",
   "execution_count": 3,
   "id": "a5d84e27",
   "metadata": {},
   "outputs": [
    {
     "name": "stdout",
     "output_type": "stream",
     "text": [
      "can only concatenate str (not \"int\") to str\n"
     ]
    }
   ],
   "source": [
    "try:\n",
    "    a='hello'\n",
    "    b=2\n",
    "    print(a+b)\n",
    "except Exception as e:\n",
    "    print(e)"
   ]
  },
  {
   "cell_type": "code",
   "execution_count": 4,
   "id": "5c93fad2",
   "metadata": {},
   "outputs": [
    {
     "name": "stdout",
     "output_type": "stream",
     "text": [
      "can only concatenate str (not \"int\") to str\n",
      "completed\n"
     ]
    }
   ],
   "source": [
    "try:\n",
    "    a='hello'\n",
    "    b=2\n",
    "    print(a+b)\n",
    "except Exception as e:\n",
    "    print(e)\n",
    "finally:\n",
    "    print('completed')"
   ]
  }
 ],
 "metadata": {
  "kernelspec": {
   "display_name": "Python 3 (ipykernel)",
   "language": "python",
   "name": "python3"
  },
  "language_info": {
   "codemirror_mode": {
    "name": "ipython",
    "version": 3
   },
   "file_extension": ".py",
   "mimetype": "text/x-python",
   "name": "python",
   "nbconvert_exporter": "python",
   "pygments_lexer": "ipython3",
   "version": "3.9.12"
  }
 },
 "nbformat": 4,
 "nbformat_minor": 5
}
